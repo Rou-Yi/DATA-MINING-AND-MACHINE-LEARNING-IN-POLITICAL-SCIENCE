{
 "cells": [
  {
   "cell_type": "markdown",
   "id": "bf2a2d0c",
   "metadata": {},
   "source": [
    "# Load Package"
   ]
  },
  {
   "cell_type": "code",
   "execution_count": 1,
   "id": "775aade7",
   "metadata": {},
   "outputs": [],
   "source": [
    "import pandas as pd\n",
    "import numpy as np\n",
    "import os\n",
    "import sklearn\n",
    "import seaborn as sns\n",
    "from matplotlib import pyplot as plt\n",
    "%matplotlib inline\n",
    "plt.style.use(\"ggplot\")\n",
    "plt.rcParams['font.family'] = 'Noto Sans CJK TC'\n",
    "plt.rcParams['axes.unicode_minus']=False"
   ]
  },
  {
   "cell_type": "markdown",
   "id": "ca92b9b1",
   "metadata": {},
   "source": [
    "# Load Data"
   ]
  },
  {
   "cell_type": "code",
   "execution_count": 99,
   "id": "9973df73",
   "metadata": {},
   "outputs": [
    {
     "data": {
      "text/html": [
       "<div>\n",
       "<style scoped>\n",
       "    .dataframe tbody tr th:only-of-type {\n",
       "        vertical-align: middle;\n",
       "    }\n",
       "\n",
       "    .dataframe tbody tr th {\n",
       "        vertical-align: top;\n",
       "    }\n",
       "\n",
       "    .dataframe thead th {\n",
       "        text-align: right;\n",
       "    }\n",
       "</style>\n",
       "<table border=\"1\" class=\"dataframe\">\n",
       "  <thead>\n",
       "    <tr style=\"text-align: right;\">\n",
       "      <th></th>\n",
       "      <th>案件編號</th>\n",
       "      <th>發生日期</th>\n",
       "      <th>發生時間</th>\n",
       "      <th>GPS經度</th>\n",
       "      <th>GPS緯度</th>\n",
       "      <th>案件類別</th>\n",
       "      <th>地址類型</th>\n",
       "      <th>發生地點</th>\n",
       "      <th>24小時內死亡人數</th>\n",
       "      <th>受傷人數</th>\n",
       "      <th>...</th>\n",
       "      <th>事故位置</th>\n",
       "      <th>號誌種類</th>\n",
       "      <th>事故類型及型態</th>\n",
       "      <th>肇因研判</th>\n",
       "      <th>區域</th>\n",
       "      <th>季節</th>\n",
       "      <th>路燈數量</th>\n",
       "      <th>道路型態_大類別</th>\n",
       "      <th>路名或街名</th>\n",
       "      <th>里</th>\n",
       "    </tr>\n",
       "  </thead>\n",
       "  <tbody>\n",
       "    <tr>\n",
       "      <th>0</th>\n",
       "      <td>10701AC191A0013</td>\n",
       "      <td>20180119</td>\n",
       "      <td>6-9時</td>\n",
       "      <td>120.2212</td>\n",
       "      <td>22.963416</td>\n",
       "      <td>交通事故</td>\n",
       "      <td>一般地址</td>\n",
       "      <td>臺南市東區生產路68號</td>\n",
       "      <td>1</td>\n",
       "      <td>0</td>\n",
       "      <td>...</td>\n",
       "      <td>機車優先道</td>\n",
       "      <td>無號誌</td>\n",
       "      <td>撞護欄(樁)</td>\n",
       "      <td>未注意車前狀態</td>\n",
       "      <td>東區</td>\n",
       "      <td>冬天</td>\n",
       "      <td>0</td>\n",
       "      <td>直路</td>\n",
       "      <td>生產路</td>\n",
       "      <td>仁和里</td>\n",
       "    </tr>\n",
       "    <tr>\n",
       "      <th>1</th>\n",
       "      <td>10701AC191B0003</td>\n",
       "      <td>20180101</td>\n",
       "      <td>0-3時</td>\n",
       "      <td>120.235561</td>\n",
       "      <td>22.987356</td>\n",
       "      <td>交通事故</td>\n",
       "      <td>交叉路口</td>\n",
       "      <td>臺南市東區富農街二段西側與富農街二段12巷處</td>\n",
       "      <td>0</td>\n",
       "      <td>1</td>\n",
       "      <td>...</td>\n",
       "      <td>交叉路口內</td>\n",
       "      <td>無號誌</td>\n",
       "      <td>側撞</td>\n",
       "      <td>酒醉(後)駕駛失控</td>\n",
       "      <td>東區</td>\n",
       "      <td>冬天</td>\n",
       "      <td>1</td>\n",
       "      <td>交岔路</td>\n",
       "      <td>富農街二段</td>\n",
       "      <td>東聖里</td>\n",
       "    </tr>\n",
       "    <tr>\n",
       "      <th>2</th>\n",
       "      <td>10701AC191B0023</td>\n",
       "      <td>20180101</td>\n",
       "      <td>18-21時</td>\n",
       "      <td>120.233903</td>\n",
       "      <td>22.991879</td>\n",
       "      <td>交通事故</td>\n",
       "      <td>一般地址</td>\n",
       "      <td>臺南市東區中華東路1段前0公尺</td>\n",
       "      <td>0</td>\n",
       "      <td>2</td>\n",
       "      <td>...</td>\n",
       "      <td>機車優先道</td>\n",
       "      <td>無號誌</td>\n",
       "      <td>追撞</td>\n",
       "      <td>未保持行車安全距離</td>\n",
       "      <td>東區</td>\n",
       "      <td>冬天</td>\n",
       "      <td>0</td>\n",
       "      <td>直路</td>\n",
       "      <td>中華東路一段</td>\n",
       "      <td>東光里</td>\n",
       "    </tr>\n",
       "  </tbody>\n",
       "</table>\n",
       "<p>3 rows × 23 columns</p>\n",
       "</div>"
      ],
      "text/plain": [
       "              案件編號      發生日期    發生時間       GPS經度      GPS緯度  案件類別  地址類型  \\\n",
       "0  10701AC191A0013  20180119    6-9時    120.2212  22.963416  交通事故  一般地址   \n",
       "1  10701AC191B0003  20180101    0-3時  120.235561  22.987356  交通事故  交叉路口   \n",
       "2  10701AC191B0023  20180101  18-21時  120.233903  22.991879  交通事故  一般地址   \n",
       "\n",
       "                     發生地點 24小時內死亡人數 受傷人數  ...   事故位置 號誌種類 事故類型及型態       肇因研判  \\\n",
       "0             臺南市東區生產路68號         1    0  ...  機車優先道  無號誌  撞護欄(樁)    未注意車前狀態   \n",
       "1  臺南市東區富農街二段西側與富農街二段12巷處         0    1  ...  交叉路口內  無號誌      側撞  酒醉(後)駕駛失控   \n",
       "2         臺南市東區中華東路1段前0公尺         0    2  ...  機車優先道  無號誌      追撞  未保持行車安全距離   \n",
       "\n",
       "   區域  季節 路燈數量 道路型態_大類別   路名或街名    里  \n",
       "0  東區  冬天    0       直路     生產路  仁和里  \n",
       "1  東區  冬天    1      交岔路   富農街二段  東聖里  \n",
       "2  東區  冬天    0       直路  中華東路一段  東光里  \n",
       "\n",
       "[3 rows x 23 columns]"
      ]
     },
     "execution_count": 99,
     "metadata": {},
     "output_type": "execute_result"
    }
   ],
   "source": [
    "data = pd.read_csv(\"道路交通事故原因傷亡統計107-110_有路燈.csv\", dtype='unicode')\n",
    "data.head(3)"
   ]
  },
  {
   "cell_type": "markdown",
   "id": "d80d7ddb",
   "metadata": {},
   "source": [
    "# 台南市所有里的資料\n",
    "https://data.tainan.gov.tw/dataset/tainan-vil-code/resource/f222d100-e67f-42de-9072-130be35fa363"
   ]
  },
  {
   "cell_type": "code",
   "execution_count": 4,
   "id": "acc40bf6",
   "metadata": {},
   "outputs": [],
   "source": [
    "suburb_data = pd.read_csv(\"tainanvilcode.csv\", dtype='unicode')\n",
    "\n",
    "all_suburb = {}\n",
    "town, suburb = [], []\n",
    "for col in range(suburb_data.shape[0]):\n",
    "    a = suburb_data['AreaName'][col]\n",
    "    start = a.find(\"區\") + 1\n",
    "    \"\"\"\n",
    "    town.append(a[3:start])\n",
    "    suburb.append(a[start:-1]+'里')  \n",
    "    \"\"\"\n",
    "    town = a[3:start]\n",
    "    suburb = a[start:-1]+'里'\n",
    "    if town not in all_suburb:\n",
    "        all_suburb[town] = []\n",
    "    all_suburb[town].append(suburb)"
   ]
  },
  {
   "cell_type": "code",
   "execution_count": 90,
   "id": "b34da145",
   "metadata": {
    "scrolled": false
   },
   "outputs": [
    {
     "data": {
      "text/plain": [
       "[]"
      ]
     },
     "execution_count": 90,
     "metadata": {},
     "output_type": "execute_result"
    }
   ],
   "source": [
    "# 所有的里都是 3 個字\n",
    "[x for x in suburb if len(x)!=3]"
   ]
  },
  {
   "cell_type": "code",
   "execution_count": 87,
   "id": "ac090459",
   "metadata": {},
   "outputs": [],
   "source": [
    "#d = pd.DataFrame({\"區\":town, \"里\":suburb})\n",
    "#d.to_csv(\"台南市區里資料統整.csv\", index=False, encoding='utf_8_sig')"
   ]
  },
  {
   "cell_type": "markdown",
   "id": "dac95243",
   "metadata": {},
   "source": [
    "# 找「里」出來\n",
    "利用 python 套件 [geopy 2.2.0](https://pypi.org/project/geopy/)，透過資料中的經緯度轉成地址後，擷取里的資訊  \n",
    "※因為是免費的找地址程式，相較google地圖並不會完全精準，因此只用來找尋\"里\"，沒有用在尋找路名"
   ]
  },
  {
   "cell_type": "code",
   "execution_count": 5,
   "id": "0ffb2c0d",
   "metadata": {},
   "outputs": [],
   "source": [
    "# 新增「里」欄位\n",
    "suburb = []\n",
    "town_string = list(data['區域'])\n",
    "spot_string = list(data['發生地點'])\n",
    "\n",
    "for col in range(data.shape[0]):\n",
    "    spot = spot_string[col]\n",
    "    town = town_string[col]\n",
    "    target = all_suburb[town]  # 找出該區域所有的里\n",
    "    \n",
    "    Q = '無註明'\n",
    "    if spot.find(\"里\")+1:\n",
    "        find_suburb = [x for x in target if spot.find(x)+1]\n",
    "        if find_suburb:\n",
    "            Q = find_suburb[0]\n",
    "    suburb.append(Q)"
   ]
  },
  {
   "cell_type": "code",
   "execution_count": 6,
   "id": "d8df9717",
   "metadata": {},
   "outputs": [
    {
     "data": {
      "text/plain": [
       "無註明    119856\n",
       "新和里       736\n",
       "光文里       716\n",
       "社內里       701\n",
       "仁德里       583\n",
       "        ...  \n",
       "漳洲里         1\n",
       "國宅里         1\n",
       "金華里         1\n",
       "赤嵌里         1\n",
       "溪心里         1\n",
       "Length: 499, dtype: int64"
      ]
     },
     "execution_count": 6,
     "metadata": {},
     "output_type": "execute_result"
    }
   ],
   "source": [
    "pd.Series(suburb).value_counts()"
   ]
  },
  {
   "cell_type": "code",
   "execution_count": 7,
   "id": "25ac711f",
   "metadata": {},
   "outputs": [],
   "source": [
    "# 讀取經緯度\n",
    "lat = list(data['GPS經度'].astype('float'))\n",
    "lon = list(data['GPS緯度'].astype('float'))"
   ]
  },
  {
   "cell_type": "code",
   "execution_count": 8,
   "id": "6b2589bd",
   "metadata": {},
   "outputs": [],
   "source": [
    "suburb_data = pd.read_csv(\"里_jupyter_1.csv\")\n",
    "neighbourhood = suburb_data.iloc[:, 0]"
   ]
  },
  {
   "cell_type": "code",
   "execution_count": 9,
   "id": "a8154550",
   "metadata": {
    "scrolled": true
   },
   "outputs": [
    {
     "data": {
      "text/plain": [
       "56532"
      ]
     },
     "execution_count": 9,
     "metadata": {},
     "output_type": "execute_result"
    }
   ],
   "source": [
    "7936 + 7770 + 493 + 6035 + 34298"
   ]
  },
  {
   "cell_type": "code",
   "execution_count": 10,
   "id": "0115b910",
   "metadata": {
    "scrolled": true
   },
   "outputs": [
    {
     "name": "stderr",
     "output_type": "stream",
     "text": [
      "100%|██████████████████████████████████████████████████████████████████████████| 10521/10521 [2:05:26<00:00,  1.40it/s]\n"
     ]
    }
   ],
   "source": [
    "# 經緯度轉地址\n",
    "from tqdm import tqdm, trange\n",
    "from geopy.geocoders import Nominatim\n",
    "geolocation = Nominatim(user_agent=\"geotest\")\n",
    "\n",
    "#neighbourhood = suburb.copy()\n",
    "\n",
    "for i in tqdm(range(56532, 67053)):  # 119000, data.shape[0]\n",
    "    if (suburb[i]=='無註明') or (suburb[i]==\"經緯度錯誤\"):\n",
    "        if (lat[i]<=122) & (lat[i]>=120) & (lon[i]<=25) & (lon[i]>=22):\n",
    "            location = geolocation.reverse(\"{}, {}\".format(lon[i], lat[i])) ## lon, lat\n",
    "\n",
    "            if 'neighbourhood' in location.raw['address']:\n",
    "                neighbourhood[i] = location.raw['address']['neighbourhood']\n",
    "\n",
    "            elif 'suburb' in location.raw['address']:\n",
    "                neighbourhood[i] = location.raw['address']['suburb']\n",
    "\n",
    "            elif 'village' in location.raw['address']:\n",
    "                neighbourhood[i] = location.raw['address']['village']\n",
    "\n",
    "            else:\n",
    "                neighbourhood[i] = \"無\"\n",
    "        else:\n",
    "            neighbourhood[i] = \"經緯度錯誤\"\n",
    "            \n",
    "    if ((i+1)%1000 == 0) or (i+1 == 67053):\n",
    "        d = pd.DataFrame(neighbourhood)\n",
    "        d.to_csv(\"里_jupyter_1.csv\", index=False, encoding='utf_8_sig')"
   ]
  },
  {
   "cell_type": "code",
   "execution_count": 30,
   "id": "7b5d6f67",
   "metadata": {},
   "outputs": [],
   "source": [
    "d = pd.DataFrame(neighbourhood)\n",
    "d.to_csv(\"里_jupyter_1.csv\", index=False, encoding='utf_8_sig')"
   ]
  },
  {
   "cell_type": "code",
   "execution_count": 31,
   "id": "8b9795b2",
   "metadata": {
    "scrolled": false
   },
   "outputs": [
    {
     "data": {
      "text/plain": [
       "經緯度錯誤    41952\n",
       "無註明       6271\n",
       "永康里       1066\n",
       "尚頂里       1021\n",
       "塩行里       1003\n",
       "         ...  \n",
       "公正里          1\n",
       "菜寮           1\n",
       "新園           1\n",
       "飯店里          1\n",
       "東勢寮          1\n",
       "Name: 0, Length: 740, dtype: int64"
      ]
     },
     "execution_count": 31,
     "metadata": {},
     "output_type": "execute_result"
    }
   ],
   "source": [
    "pd.Series(neighbourhood).value_counts()"
   ]
  },
  {
   "cell_type": "markdown",
   "id": "15dc79c6",
   "metadata": {},
   "source": [
    "# 統整理"
   ]
  },
  {
   "cell_type": "code",
   "execution_count": 98,
   "id": "81fa1d69",
   "metadata": {},
   "outputs": [],
   "source": [
    "suburb_data_1 = pd.read_csv(\"里_jupyter.csv\", dtype='unicode') ## \n",
    "suburb_data_2 = pd.read_csv(\"里_jupyter_1.csv\", dtype='unicode')\n",
    "suburb_data_3 = pd.read_csv(\"里_jupyter_2.csv\", dtype='unicode')\n",
    "suburb_data_4 = pd.read_csv(\"里_jupyter_3.csv\", dtype='unicode')\n",
    "\n",
    "a1 = pd.concat([#suburb_data_1.iloc[:15706, 0], \n",
    "                suburb_data_2.iloc[:67053, 0], \n",
    "                suburb_data_4.iloc[67053:105531:, 0],\n",
    "                suburb_data_3.iloc[105531:118400:, 0],\n",
    "                suburb_data_1.iloc[118400:, 0], \n",
    "               ], axis=0).reset_index(drop=True)\n",
    "\n",
    "a1.to_csv(\"里.csv\", index=False, encoding='utf_8_sig')"
   ]
  },
  {
   "cell_type": "code",
   "execution_count": 100,
   "id": "6138be2c",
   "metadata": {
    "scrolled": false
   },
   "outputs": [
    {
     "data": {
      "text/html": [
       "<div>\n",
       "<style scoped>\n",
       "    .dataframe tbody tr th:only-of-type {\n",
       "        vertical-align: middle;\n",
       "    }\n",
       "\n",
       "    .dataframe tbody tr th {\n",
       "        vertical-align: top;\n",
       "    }\n",
       "\n",
       "    .dataframe thead th {\n",
       "        text-align: right;\n",
       "    }\n",
       "</style>\n",
       "<table border=\"1\" class=\"dataframe\">\n",
       "  <thead>\n",
       "    <tr style=\"text-align: right;\">\n",
       "      <th></th>\n",
       "      <th>案件編號</th>\n",
       "      <th>發生日期</th>\n",
       "      <th>發生時間</th>\n",
       "      <th>GPS經度</th>\n",
       "      <th>GPS緯度</th>\n",
       "      <th>案件類別</th>\n",
       "      <th>地址類型</th>\n",
       "      <th>發生地點</th>\n",
       "      <th>24小時內死亡人數</th>\n",
       "      <th>受傷人數</th>\n",
       "      <th>...</th>\n",
       "      <th>事故位置</th>\n",
       "      <th>號誌種類</th>\n",
       "      <th>事故類型及型態</th>\n",
       "      <th>肇因研判</th>\n",
       "      <th>區域</th>\n",
       "      <th>季節</th>\n",
       "      <th>路燈數量</th>\n",
       "      <th>道路型態_大類別</th>\n",
       "      <th>路名或街名</th>\n",
       "      <th>里</th>\n",
       "    </tr>\n",
       "  </thead>\n",
       "  <tbody>\n",
       "    <tr>\n",
       "      <th>0</th>\n",
       "      <td>10701AC191A0013</td>\n",
       "      <td>20180119</td>\n",
       "      <td>6-9時</td>\n",
       "      <td>120.2212</td>\n",
       "      <td>22.963416</td>\n",
       "      <td>交通事故</td>\n",
       "      <td>一般地址</td>\n",
       "      <td>臺南市東區生產路68號</td>\n",
       "      <td>1</td>\n",
       "      <td>0</td>\n",
       "      <td>...</td>\n",
       "      <td>機車優先道</td>\n",
       "      <td>無號誌</td>\n",
       "      <td>撞護欄(樁)</td>\n",
       "      <td>未注意車前狀態</td>\n",
       "      <td>東區</td>\n",
       "      <td>冬天</td>\n",
       "      <td>0</td>\n",
       "      <td>直路</td>\n",
       "      <td>生產路</td>\n",
       "      <td>東智里</td>\n",
       "    </tr>\n",
       "    <tr>\n",
       "      <th>1</th>\n",
       "      <td>10701AC191B0003</td>\n",
       "      <td>20180101</td>\n",
       "      <td>0-3時</td>\n",
       "      <td>120.235561</td>\n",
       "      <td>22.987356</td>\n",
       "      <td>交通事故</td>\n",
       "      <td>交叉路口</td>\n",
       "      <td>臺南市東區富農街二段西側與富農街二段12巷處</td>\n",
       "      <td>0</td>\n",
       "      <td>1</td>\n",
       "      <td>...</td>\n",
       "      <td>交叉路口內</td>\n",
       "      <td>無號誌</td>\n",
       "      <td>側撞</td>\n",
       "      <td>酒醉(後)駕駛失控</td>\n",
       "      <td>東區</td>\n",
       "      <td>冬天</td>\n",
       "      <td>1</td>\n",
       "      <td>交岔路</td>\n",
       "      <td>富農街二段</td>\n",
       "      <td>東聖里</td>\n",
       "    </tr>\n",
       "    <tr>\n",
       "      <th>2</th>\n",
       "      <td>10701AC191B0023</td>\n",
       "      <td>20180101</td>\n",
       "      <td>18-21時</td>\n",
       "      <td>120.233903</td>\n",
       "      <td>22.991879</td>\n",
       "      <td>交通事故</td>\n",
       "      <td>一般地址</td>\n",
       "      <td>臺南市東區中華東路1段前0公尺</td>\n",
       "      <td>0</td>\n",
       "      <td>2</td>\n",
       "      <td>...</td>\n",
       "      <td>機車優先道</td>\n",
       "      <td>無號誌</td>\n",
       "      <td>追撞</td>\n",
       "      <td>未保持行車安全距離</td>\n",
       "      <td>東區</td>\n",
       "      <td>冬天</td>\n",
       "      <td>0</td>\n",
       "      <td>直路</td>\n",
       "      <td>中華東路一段</td>\n",
       "      <td>東光里</td>\n",
       "    </tr>\n",
       "  </tbody>\n",
       "</table>\n",
       "<p>3 rows × 23 columns</p>\n",
       "</div>"
      ],
      "text/plain": [
       "              案件編號      發生日期    發生時間       GPS經度      GPS緯度  案件類別  地址類型  \\\n",
       "0  10701AC191A0013  20180119    6-9時    120.2212  22.963416  交通事故  一般地址   \n",
       "1  10701AC191B0003  20180101    0-3時  120.235561  22.987356  交通事故  交叉路口   \n",
       "2  10701AC191B0023  20180101  18-21時  120.233903  22.991879  交通事故  一般地址   \n",
       "\n",
       "                     發生地點 24小時內死亡人數 受傷人數  ...   事故位置 號誌種類 事故類型及型態       肇因研判  \\\n",
       "0             臺南市東區生產路68號         1    0  ...  機車優先道  無號誌  撞護欄(樁)    未注意車前狀態   \n",
       "1  臺南市東區富農街二段西側與富農街二段12巷處         0    1  ...  交叉路口內  無號誌      側撞  酒醉(後)駕駛失控   \n",
       "2         臺南市東區中華東路1段前0公尺         0    2  ...  機車優先道  無號誌      追撞  未保持行車安全距離   \n",
       "\n",
       "   區域  季節 路燈數量 道路型態_大類別   路名或街名    里  \n",
       "0  東區  冬天    0       直路     生產路  東智里  \n",
       "1  東區  冬天    1      交岔路   富農街二段  東聖里  \n",
       "2  東區  冬天    0       直路  中華東路一段  東光里  \n",
       "\n",
       "[3 rows x 23 columns]"
      ]
     },
     "execution_count": 100,
     "metadata": {},
     "output_type": "execute_result"
    }
   ],
   "source": [
    "data['里'] = a1\n",
    "data.head(3)"
   ]
  },
  {
   "cell_type": "code",
   "execution_count": 101,
   "id": "2c23169b",
   "metadata": {},
   "outputs": [],
   "source": [
    "# 存檔\n",
    "# data.to_csv(\"道路交通事故原因傷亡統計107-110_有路燈.csv\", index=False, encoding='utf_8_sig')"
   ]
  },
  {
   "cell_type": "code",
   "execution_count": null,
   "id": "f9336155",
   "metadata": {},
   "outputs": [],
   "source": []
  }
 ],
 "metadata": {
  "kernelspec": {
   "display_name": "Python 3 (ipykernel)",
   "language": "python",
   "name": "python3"
  },
  "language_info": {
   "codemirror_mode": {
    "name": "ipython",
    "version": 3
   },
   "file_extension": ".py",
   "mimetype": "text/x-python",
   "name": "python",
   "nbconvert_exporter": "python",
   "pygments_lexer": "ipython3",
   "version": "3.8.12"
  },
  "toc": {
   "base_numbering": 1,
   "nav_menu": {},
   "number_sections": true,
   "sideBar": true,
   "skip_h1_title": false,
   "title_cell": "Table of Contents",
   "title_sidebar": "Contents",
   "toc_cell": false,
   "toc_position": {},
   "toc_section_display": true,
   "toc_window_display": true
  }
 },
 "nbformat": 4,
 "nbformat_minor": 5
}
